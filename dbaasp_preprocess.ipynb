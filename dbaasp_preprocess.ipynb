{
 "cells": [
  {
   "cell_type": "markdown",
   "metadata": {},
   "source": [
    "# Using protein representations to identify antimicrobial peptides  \n",
    "  \n",
    "As others have mentioned in the seminar, antimicrobial resistance is a pressing issue on the worldwide healthcare system, with an estimated 4.95 million deaths per year [WHO, 2023](https://www.who.int/news/item/28-07-2023-vaccines-could-avert-half-a-million-deaths-associated-with-anti-microbial-resistance-a-year#:~:text=Globally%20there%20are%204.95%20million,burden%20of%20drug%2Dresistant%20infections). This has meant that resistant infections are now a more common cause of death than HIV/AIDS and Malaria [RKI, 2022](https://www.rki.de/EN/Content/infections/antibiotic/brochure_IHME_RKI.pdf?__blob=publicationFile). In Germany, there approximately 10, 000 deaths that could be directly attributed to infections that were resistant to antibiotics in 2019 [Christopher, J. et.al, 2022](https://www.thelancet.com/journals/lancet/article/PIIS0140-6736(21)02724-0/fulltext). All of this shows that antimicrobial resistance is an issue that has to be addressed.  \n",
    "  \n",
    "One way in which we can combat antimicrobial resistance is by identifying and developing new forms of treatment. As it turns out, there are many proteins that exhibit antimicrobial properties. This means that many organims naturally produce proteins that kill other microbial species. At the same time, scientists have been exploring the possibility of synthesizing novel proteins that can target bacteria. This line of research has proven to be quite exciting as has prompted many researchers to compile all of the known antimicrobial peptides into databases. One such database is the [Database of Antimicrobial Activity and Structure of Peptides](https://dbaasp.org/home).  \n",
    "  \n",
    "Below I give a small overview of the data."
   ]
  },
  {
   "cell_type": "markdown",
   "metadata": {},
   "source": [
    "## Reading in data from DBAASP"
   ]
  },
  {
   "cell_type": "code",
   "execution_count": 23,
   "metadata": {},
   "outputs": [],
   "source": [
    "# Importing libraries\n",
    "import os # This library allows us to interact with the operating system\n",
    "import pandas as pd # This library allows us to work with dataframes\n",
    "\n",
    "import seaborn as sns # This library allows us to create plots\n",
    "import matplotlib.pyplot as plt # This library allows us to control some of the plot's features"
   ]
  },
  {
   "cell_type": "markdown",
   "metadata": {},
   "source": [
    "\n",
    "I downloaded information from the DBAASP on January 16, 2024 using the [search tab](https://dbaasp.org/home). I filter the data so that only monomers (proteins that are only made up of one amino acid chain) are shown. From there, I create three separate downloads and save them in the [data/dbaasp](data/dbaasp/) directory:  \n",
    "\n",
    "- [peptides_gram_negative.csv](data/dbaasp/peptides_gram_negative.csv): Peptides that have been experimentally validated to act agaisnt [Gram negative](https://en.wikipedia.org/wiki/Gram_stain) bacteria.  \n",
    "- [peptides_gram_positive.csv](data/dbaasp/peptides_gram_positive.csv): Peptides that have been experimentally validated to act agaisnt [Gram positive](https://en.wikipedia.org/wiki/Gram_stain) bacteria.  \n",
    "- [peptides_mammalian.csv](data/dbaasp/peptides_mammalian.csv): Peptides that have been experimentally validated to act agaisnt mammalian cells, such as human cells. This would indicate that these proteins are harmful to the host. \n"
   ]
  },
  {
   "cell_type": "code",
   "execution_count": 24,
   "metadata": {},
   "outputs": [
    {
     "data": {
      "text/html": [
       "<div>\n",
       "<style scoped>\n",
       "    .dataframe tbody tr th:only-of-type {\n",
       "        vertical-align: middle;\n",
       "    }\n",
       "\n",
       "    .dataframe tbody tr th {\n",
       "        vertical-align: top;\n",
       "    }\n",
       "\n",
       "    .dataframe thead th {\n",
       "        text-align: right;\n",
       "    }\n",
       "</style>\n",
       "<table border=\"1\" class=\"dataframe\">\n",
       "  <thead>\n",
       "    <tr style=\"text-align: right;\">\n",
       "      <th></th>\n",
       "      <th>ID</th>\n",
       "      <th>COMPLEXITY</th>\n",
       "      <th>NAME</th>\n",
       "      <th>N TERMINUS</th>\n",
       "      <th>SEQUENCE</th>\n",
       "      <th>C TERMINUS</th>\n",
       "      <th>SYNTHESIS TYPE</th>\n",
       "      <th>TARGET GROUP</th>\n",
       "      <th>TARGET OBJECT</th>\n",
       "    </tr>\n",
       "  </thead>\n",
       "  <tbody>\n",
       "    <tr>\n",
       "      <th>10052</th>\n",
       "      <td>12656</td>\n",
       "      <td>Monomer</td>\n",
       "      <td>NaN</td>\n",
       "      <td>C12</td>\n",
       "      <td>RIWR</td>\n",
       "      <td>AMD</td>\n",
       "      <td>Synthetic</td>\n",
       "      <td>NaN</td>\n",
       "      <td>NaN</td>\n",
       "    </tr>\n",
       "    <tr>\n",
       "      <th>754</th>\n",
       "      <td>1061</td>\n",
       "      <td>Monomer</td>\n",
       "      <td>Linear Cathelicidin-1, Linear Bac1 [C3S][C11S]</td>\n",
       "      <td>NaN</td>\n",
       "      <td>RLSRIVVIRVSR</td>\n",
       "      <td>NaN</td>\n",
       "      <td>Synthetic</td>\n",
       "      <td>NaN</td>\n",
       "      <td>NaN</td>\n",
       "    </tr>\n",
       "    <tr>\n",
       "      <th>10385</th>\n",
       "      <td>13061</td>\n",
       "      <td>Monomer</td>\n",
       "      <td>Similar to Plectasin acc. no. Q53I06, Po Defen...</td>\n",
       "      <td>NaN</td>\n",
       "      <td>GFGCNGPWDEDDMKCHNHCKTIKGYKGGYCASAGFVCKCY</td>\n",
       "      <td>NaN</td>\n",
       "      <td>Ribosomal</td>\n",
       "      <td>NaN</td>\n",
       "      <td>NaN</td>\n",
       "    </tr>\n",
       "    <tr>\n",
       "      <th>14771</th>\n",
       "      <td>18879</td>\n",
       "      <td>Monomer</td>\n",
       "      <td>Cyclo(L-Pro-D-Arg), Diketopiperazine (Pr)</td>\n",
       "      <td>NaN</td>\n",
       "      <td>Pr</td>\n",
       "      <td>NaN</td>\n",
       "      <td>Nonribosomal</td>\n",
       "      <td>NaN</td>\n",
       "      <td>NaN</td>\n",
       "    </tr>\n",
       "    <tr>\n",
       "      <th>3683</th>\n",
       "      <td>4647</td>\n",
       "      <td>Monomer</td>\n",
       "      <td>Rev-NIS [L3S]</td>\n",
       "      <td>NaN</td>\n",
       "      <td>ELSKAVRLIK</td>\n",
       "      <td>NaN</td>\n",
       "      <td>Synthetic</td>\n",
       "      <td>NaN</td>\n",
       "      <td>NaN</td>\n",
       "    </tr>\n",
       "  </tbody>\n",
       "</table>\n",
       "</div>"
      ],
      "text/plain": [
       "          ID COMPLEXITY                                               NAME  \\\n",
       "10052  12656    Monomer                                                NaN   \n",
       "754     1061    Monomer     Linear Cathelicidin-1, Linear Bac1 [C3S][C11S]   \n",
       "10385  13061    Monomer  Similar to Plectasin acc. no. Q53I06, Po Defen...   \n",
       "14771  18879    Monomer          Cyclo(L-Pro-D-Arg), Diketopiperazine (Pr)   \n",
       "3683    4647    Monomer                                      Rev-NIS [L3S]   \n",
       "\n",
       "      N TERMINUS                                  SEQUENCE C TERMINUS  \\\n",
       "10052        C12                                      RIWR        AMD   \n",
       "754          NaN                              RLSRIVVIRVSR        NaN   \n",
       "10385        NaN  GFGCNGPWDEDDMKCHNHCKTIKGYKGGYCASAGFVCKCY        NaN   \n",
       "14771        NaN                                        Pr        NaN   \n",
       "3683         NaN                                ELSKAVRLIK        NaN   \n",
       "\n",
       "      SYNTHESIS TYPE  TARGET GROUP  TARGET OBJECT  \n",
       "10052      Synthetic           NaN            NaN  \n",
       "754        Synthetic           NaN            NaN  \n",
       "10385      Ribosomal           NaN            NaN  \n",
       "14771   Nonribosomal           NaN            NaN  \n",
       "3683       Synthetic           NaN            NaN  "
      ]
     },
     "execution_count": 24,
     "metadata": {},
     "output_type": "execute_result"
    }
   ],
   "source": [
    "\n",
    "# Path to the folder\n",
    "folder_path = 'data/dbaasp'\n",
    "\n",
    "# Get the list of files in the folder\n",
    "file_list = os.listdir(folder_path)\n",
    "\n",
    "# Dictionary to store the dataframes\n",
    "peptide_dict = {}\n",
    "\n",
    "# Loop through the files\n",
    "for file_name in file_list:\n",
    "    # Construct the full file path\n",
    "    file_path = os.path.join(folder_path, file_name)\n",
    "\n",
    "    # Read the file into a dataframe\n",
    "    df_name = file_name.split('.')[0]  # Use the file name as the dataframe name\n",
    "\n",
    "    # Store the dataframe in the dictionary\n",
    "    peptide_dict[df_name] = pd.read_csv(file_path)\n",
    "    \n",
    "\n",
    "# Show the datafranme names\n",
    "peptide_dict[\"peptides_gram_negative\"].sample(5)"
   ]
  },
  {
   "cell_type": "markdown",
   "metadata": {},
   "source": [
    "## Assign activity labels  \n",
    "  \n",
    "Now that we have these three categories of peptides, it is important to keep in mind that these sets are overlapping. A protein that is effective against Gram negative can also be active against Gram positive, for example. We can create some specific labels to get a better idea of how these proteins behave."
   ]
  },
  {
   "cell_type": "code",
   "execution_count": 25,
   "metadata": {},
   "outputs": [
    {
     "name": "stdout",
     "output_type": "stream",
     "text": [
      "Number of unique protein IDs: 18858\n"
     ]
    }
   ],
   "source": [
    "# Gather all protein IDs\n",
    "all_pids = list(set(peptide_dict[\"peptides_gram_negative\"][\"ID\"]).union(peptide_dict[\"peptides_gram_positive\"][\"ID\"], peptide_dict[\"peptides_mammalian\"][\"ID\"]))\n",
    "\n",
    "print(\"Number of unique protein IDs:\", len(all_pids))"
   ]
  },
  {
   "cell_type": "code",
   "execution_count": 26,
   "metadata": {},
   "outputs": [
    {
     "name": "stdout",
     "output_type": "stream",
     "text": [
      "Number of proteins that are active against bacteria: 17907\n",
      "Number of proteins that are active against bacteria but not against mammalian cells: 7222\n",
      "Number of proteins that are active against both bacteria and mammalian cells: 10685\n",
      "Number of proteins that are active against mammalian cells but not against bacteria: 951\n"
     ]
    }
   ],
   "source": [
    "# Gather all proteins that are active against both gram-negative and gram-positive bacteria\n",
    "all_antibacterial_pids = list(set(peptide_dict[\"peptides_gram_negative\"][\"ID\"]).union(peptide_dict[\"peptides_gram_positive\"][\"ID\"]))\n",
    "\n",
    "# Gather the proteins that are active against bacteria but *not* against mammalian cells\n",
    "specific_antibacterial_pids = list(set(all_antibacterial_pids).difference(peptide_dict[\"peptides_mammalian\"][\"ID\"]))\n",
    "\n",
    "# Gather proteins that are active against bacteria *and* against mammalian cells\n",
    "cytotoxic_pids = list(set(peptide_dict[\"peptides_mammalian\"][\"ID\"]).intersection(all_antibacterial_pids))\n",
    "\n",
    "# Gather proteins that are active against mammalian cells but *not* against bacteria\n",
    "specific_cytotoxic_pids = list(set(peptide_dict[\"peptides_mammalian\"][\"ID\"]).difference(all_antibacterial_pids))\n",
    "\n",
    "\n",
    "\n",
    "print(\"Number of proteins that are active against bacteria:\", len(all_antibacterial_pids))\n",
    "print(\"Number of proteins that are active against bacteria but not against mammalian cells:\", len(specific_antibacterial_pids))\n",
    "print(\"Number of proteins that are active against both bacteria and mammalian cells:\", len(cytotoxic_pids))\n",
    "print(\"Number of proteins that are active against mammalian cells but not against bacteria:\", len(specific_cytotoxic_pids))\n"
   ]
  },
  {
   "cell_type": "markdown",
   "metadata": {},
   "source": [
    "As we can see, while there are ~17K protein sequences that are active against bacteria, the majority of those (~10K) are also harmful to mammalian cells. These unspecific proteins are not likely to be iteresting candidates as they could also potentially be harmful to humans if not treated carefully. \n",
    "  \n",
    "We can now create a new dataframe that summarises the activity of the proteins in one column"
   ]
  },
  {
   "cell_type": "code",
   "execution_count": 27,
   "metadata": {},
   "outputs": [
    {
     "data": {
      "text/html": [
       "<div>\n",
       "<style scoped>\n",
       "    .dataframe tbody tr th:only-of-type {\n",
       "        vertical-align: middle;\n",
       "    }\n",
       "\n",
       "    .dataframe tbody tr th {\n",
       "        vertical-align: top;\n",
       "    }\n",
       "\n",
       "    .dataframe thead th {\n",
       "        text-align: right;\n",
       "    }\n",
       "</style>\n",
       "<table border=\"1\" class=\"dataframe\">\n",
       "  <thead>\n",
       "    <tr style=\"text-align: right;\">\n",
       "      <th></th>\n",
       "      <th>ID</th>\n",
       "      <th>activity</th>\n",
       "    </tr>\n",
       "  </thead>\n",
       "  <tbody>\n",
       "    <tr>\n",
       "      <th>18708</th>\n",
       "      <td>21585</td>\n",
       "      <td>antibacterial_mammalian</td>\n",
       "    </tr>\n",
       "    <tr>\n",
       "      <th>16869</th>\n",
       "      <td>19464</td>\n",
       "      <td>antibacterial_mammalian</td>\n",
       "    </tr>\n",
       "    <tr>\n",
       "      <th>16962</th>\n",
       "      <td>19575</td>\n",
       "      <td>antibacterial_mammalian</td>\n",
       "    </tr>\n",
       "    <tr>\n",
       "      <th>1624</th>\n",
       "      <td>1838</td>\n",
       "      <td>antibacterial</td>\n",
       "    </tr>\n",
       "    <tr>\n",
       "      <th>14786</th>\n",
       "      <td>17071</td>\n",
       "      <td>antibacterial_mammalian</td>\n",
       "    </tr>\n",
       "  </tbody>\n",
       "</table>\n",
       "</div>"
      ],
      "text/plain": [
       "          ID                 activity\n",
       "18708  21585  antibacterial_mammalian\n",
       "16869  19464  antibacterial_mammalian\n",
       "16962  19575  antibacterial_mammalian\n",
       "1624    1838            antibacterial\n",
       "14786  17071  antibacterial_mammalian"
      ]
     },
     "execution_count": 27,
     "metadata": {},
     "output_type": "execute_result"
    }
   ],
   "source": [
    "def assign_class(row, class_dict):\n",
    "    \"\"\"\n",
    "    Assigns a class to a peptide based on its ID.\n",
    "    \"\"\"\n",
    "    pid = row[\"ID\"]\n",
    "    for key, value in class_dict.items():\n",
    "        if pid in value:\n",
    "            return key\n",
    "        \n",
    "# Create a dictionary with the protein activities \n",
    "protein_classes = {}\n",
    "\n",
    "# Proteins that only kill bacteria\n",
    "protein_classes[\"antibacterial\"] = specific_antibacterial_pids\n",
    "\n",
    "# Proteins that kill bacteria and mammalian cells\n",
    "protein_classes[\"antibacterial_mammalian\"] = cytotoxic_pids\n",
    "\n",
    "# Proteins that only kill mammalian cells\n",
    "protein_classes[\"mammalian\"] = specific_cytotoxic_pids\n",
    "\n",
    "\n",
    "# Create a dataframe with all PIDs\n",
    "all_pids_df = pd.DataFrame({\"ID\": all_pids})\n",
    "\n",
    "# Assign a class to each PID\n",
    "all_pids_df[\"activity\"] = all_pids_df.apply(assign_class, args=(protein_classes,), axis=1)\n",
    "\n",
    "all_pids_df.sample(5)"
   ]
  },
  {
   "cell_type": "code",
   "execution_count": 28,
   "metadata": {},
   "outputs": [
    {
     "data": {
      "text/plain": [
       "antibacterial_mammalian    10685\n",
       "antibacterial               7222\n",
       "mammalian                    951\n",
       "Name: activity, dtype: int64"
      ]
     },
     "execution_count": 28,
     "metadata": {},
     "output_type": "execute_result"
    }
   ],
   "source": [
    "all_pids_df[\"activity\"].value_counts()"
   ]
  },
  {
   "cell_type": "markdown",
   "metadata": {},
   "source": [
    "## Add additional data  \n",
    "  \n",
    "Now that we have all of the corresponding labels, we can add information about the amino-acid sequence, name, etc."
   ]
  },
  {
   "cell_type": "code",
   "execution_count": 29,
   "metadata": {},
   "outputs": [
    {
     "data": {
      "text/html": [
       "<div>\n",
       "<style scoped>\n",
       "    .dataframe tbody tr th:only-of-type {\n",
       "        vertical-align: middle;\n",
       "    }\n",
       "\n",
       "    .dataframe tbody tr th {\n",
       "        vertical-align: top;\n",
       "    }\n",
       "\n",
       "    .dataframe thead th {\n",
       "        text-align: right;\n",
       "    }\n",
       "</style>\n",
       "<table border=\"1\" class=\"dataframe\">\n",
       "  <thead>\n",
       "    <tr style=\"text-align: right;\">\n",
       "      <th></th>\n",
       "      <th>ID</th>\n",
       "      <th>NAME</th>\n",
       "      <th>N TERMINUS</th>\n",
       "      <th>SEQUENCE</th>\n",
       "      <th>C TERMINUS</th>\n",
       "      <th>SYNTHESIS TYPE</th>\n",
       "      <th>activity</th>\n",
       "    </tr>\n",
       "  </thead>\n",
       "  <tbody>\n",
       "    <tr>\n",
       "      <th>13042</th>\n",
       "      <td>16718</td>\n",
       "      <td>LF11 [Q2V,Q4A]</td>\n",
       "      <td>NaN</td>\n",
       "      <td>FVWARNIRKVR</td>\n",
       "      <td>AMD</td>\n",
       "      <td>Synthetic</td>\n",
       "      <td>antibacterial</td>\n",
       "    </tr>\n",
       "    <tr>\n",
       "      <th>16051</th>\n",
       "      <td>20629</td>\n",
       "      <td>SMAP-29 (1-18) [G7A]</td>\n",
       "      <td>NaN</td>\n",
       "      <td>RGLRRLARKIAHGVKKYG</td>\n",
       "      <td>NaN</td>\n",
       "      <td>Synthetic</td>\n",
       "      <td>antibacterial</td>\n",
       "    </tr>\n",
       "    <tr>\n",
       "      <th>17147</th>\n",
       "      <td>8472</td>\n",
       "      <td>NaN</td>\n",
       "      <td>NaN</td>\n",
       "      <td>RXRXR</td>\n",
       "      <td>AMD</td>\n",
       "      <td>Synthetic</td>\n",
       "      <td>antibacterial</td>\n",
       "    </tr>\n",
       "    <tr>\n",
       "      <th>7539</th>\n",
       "      <td>9586</td>\n",
       "      <td>NaN</td>\n",
       "      <td>NaN</td>\n",
       "      <td>WALRLYLVY</td>\n",
       "      <td>AMD</td>\n",
       "      <td>Synthetic</td>\n",
       "      <td>antibacterial</td>\n",
       "    </tr>\n",
       "    <tr>\n",
       "      <th>15694</th>\n",
       "      <td>20174</td>\n",
       "      <td>Hm-AMP5</td>\n",
       "      <td>NaN</td>\n",
       "      <td>FIFSKLFLGLIKI</td>\n",
       "      <td>NaN</td>\n",
       "      <td>Synthetic</td>\n",
       "      <td>antibacterial</td>\n",
       "    </tr>\n",
       "  </tbody>\n",
       "</table>\n",
       "</div>"
      ],
      "text/plain": [
       "          ID                  NAME N TERMINUS            SEQUENCE C TERMINUS  \\\n",
       "13042  16718        LF11 [Q2V,Q4A]        NaN         FVWARNIRKVR        AMD   \n",
       "16051  20629  SMAP-29 (1-18) [G7A]        NaN  RGLRRLARKIAHGVKKYG        NaN   \n",
       "17147   8472                   NaN        NaN               RXRXR        AMD   \n",
       "7539    9586                   NaN        NaN           WALRLYLVY        AMD   \n",
       "15694  20174               Hm-AMP5        NaN       FIFSKLFLGLIKI        NaN   \n",
       "\n",
       "      SYNTHESIS TYPE       activity  \n",
       "13042      Synthetic  antibacterial  \n",
       "16051      Synthetic  antibacterial  \n",
       "17147      Synthetic  antibacterial  \n",
       "7539       Synthetic  antibacterial  \n",
       "15694      Synthetic  antibacterial  "
      ]
     },
     "execution_count": 29,
     "metadata": {},
     "output_type": "execute_result"
    }
   ],
   "source": [
    "# Combine all three dataframes into one\n",
    "combined_df = pd.concat([peptide_dict[\"peptides_gram_negative\"], peptide_dict[\"peptides_gram_positive\"], peptide_dict[\"peptides_mammalian\"]])\n",
    "\n",
    "# Drop repeated rows\n",
    "combined_df.drop_duplicates(inplace=True)\n",
    "\n",
    "# Drop non-informative columns\n",
    "combined_df.drop(columns=[\"TARGET GROUP\", \"TARGET OBJECT\", \"COMPLEXITY\"], inplace=True)\n",
    "\n",
    "# Merge the combined dataframe with the dataframe containing the protein classes\n",
    "combined_df = combined_df.merge(all_pids_df, on=\"ID\")\n",
    "\n",
    "combined_df.sample(5)\n"
   ]
  },
  {
   "cell_type": "markdown",
   "metadata": {},
   "source": [
    "## Basic exploration  \n",
    "  \n",
    "Here are some basic exploratory plots that we do to explore the data"
   ]
  },
  {
   "cell_type": "markdown",
   "metadata": {},
   "source": [
    "### Sequence length  \n",
    "  \n",
    "Typically, a short peptide has a length $\\leq$ 100 amino-acids. Let's check out the size of the proteins in our dataset"
   ]
  },
  {
   "cell_type": "code",
   "execution_count": 30,
   "metadata": {},
   "outputs": [
    {
     "data": {
      "text/plain": [
       "Text(0.5, 1.0, 'Distribution of peptide lengths')"
      ]
     },
     "execution_count": 30,
     "metadata": {},
     "output_type": "execute_result"
    },
    {
     "data": {
      "image/png": "[encoded data removed]",
      "text/plain": [
       "<Figure size 720x360 with 1 Axes>"
      ]
     },
     "metadata": {
      "needs_background": "light"
     },
     "output_type": "display_data"
    }
   ],
   "source": [
    "# Add a column with the peptide length\n",
    "combined_df[\"length\"] = combined_df[\"SEQUENCE\"].apply(len)\n",
    "\n",
    "# Plot a histogram of the peptide lengths\n",
    "plt.figure(figsize=(10, 5))\n",
    "\n",
    "sns.histplot(data=combined_df, x=\"length\", bins=100)\n",
    "plt.title(\"Distribution of peptide lengths\")"
   ]
  },
  {
   "cell_type": "markdown",
   "metadata": {},
   "source": [
    "We can also see if there is a difference due to activity"
   ]
  },
  {
   "cell_type": "code",
   "execution_count": 31,
   "metadata": {},
   "outputs": [
    {
     "data": {
      "text/plain": [
       "Text(0.5, 1.0, 'Distribution of peptide lengths by acitvity')"
      ]
     },
     "execution_count": 31,
     "metadata": {},
     "output_type": "execute_result"
    },
    {
     "data": {
      "image/png": "[encoded data removed]",
      "text/plain": [
       "<Figure size 720x360 with 1 Axes>"
      ]
     },
     "metadata": {
      "needs_background": "light"
     },
     "output_type": "display_data"
    }
   ],
   "source": [
    "# Plot a histogram of the peptide lengths by activity\n",
    "plt.figure(figsize=(10, 5))\n",
    "\n",
    "sns.histplot(data=combined_df, x=\"length\", hue=\"activity\", bins=100)\n",
    "plt.title(\"Distribution of peptide lengths by acitvity\")"
   ]
  },
  {
   "cell_type": "markdown",
   "metadata": {},
   "source": [
    "Not reallly that much of a difference."
   ]
  },
  {
   "cell_type": "markdown",
   "metadata": {},
   "source": [
    "## Next steps  \n",
    "  \n",
    "The exact next steps are up to you!\n",
    "\n",
    "I propose that we can set up a simple, but interesting classification task where the goal is to use the amino-acid sequence to predict the activity of the peptide. We can discuss exactly how to do this. We can propose a multiclass classification task, a series of binary tasks where we first determine if something is uniquely antimicrobial or not, etc.  \n",
    "  \n",
    "The main thing is that the input into our machine learining algorithm will change. We can compare the pretrained protein representation, to other baselines such as the unigram. We can see which features lead to better performance of baseline machine learning algorithms such as Random Forest, Logistic Regression or XGBoost.   \n",
    "  \n",
    "Have a think about it and we can discuss!"
   ]
  }
 ],
 "metadata": {
  "kernelspec": {
   "display_name": "molclr",
   "language": "python",
   "name": "python3"
  },
  "language_info": {
   "codemirror_mode": {
    "name": "ipython",
    "version": 3
   },
   "file_extension": ".py",
   "mimetype": "text/x-python",
   "name": "python",
   "nbconvert_exporter": "python",
   "pygments_lexer": "ipython3",
   "version": "3.7.12"
  }
 },
 "nbformat": 4,
 "nbformat_minor": 2
}
